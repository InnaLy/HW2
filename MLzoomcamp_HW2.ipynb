{
 "cells": [
  {
   "cell_type": "code",
   "execution_count": 96,
   "id": "a0c45bd6",
   "metadata": {},
   "outputs": [],
   "source": [
    "import numpy as np \n",
    "import pandas as pd\n",
    "import matplotlib.pyplot as plt\n",
    "import seaborn as sns\n",
    "from sklearn.metrics import mean_squared_error"
   ]
  },
  {
   "cell_type": "code",
   "execution_count": 2,
   "id": "e1e2586c",
   "metadata": {},
   "outputs": [],
   "source": [
    "df = pd.read_csv('C:/Users/innal/OneDrive/Desktop/Data Analytics Course/ML course/housing.csv')"
   ]
  },
  {
   "cell_type": "code",
   "execution_count": 3,
   "id": "273cef62",
   "metadata": {},
   "outputs": [
    {
     "data": {
      "text/html": [
       "<div>\n",
       "<style scoped>\n",
       "    .dataframe tbody tr th:only-of-type {\n",
       "        vertical-align: middle;\n",
       "    }\n",
       "\n",
       "    .dataframe tbody tr th {\n",
       "        vertical-align: top;\n",
       "    }\n",
       "\n",
       "    .dataframe thead th {\n",
       "        text-align: right;\n",
       "    }\n",
       "</style>\n",
       "<table border=\"1\" class=\"dataframe\">\n",
       "  <thead>\n",
       "    <tr style=\"text-align: right;\">\n",
       "      <th></th>\n",
       "      <th>longitude</th>\n",
       "      <th>latitude</th>\n",
       "      <th>housing_median_age</th>\n",
       "      <th>total_rooms</th>\n",
       "      <th>total_bedrooms</th>\n",
       "      <th>population</th>\n",
       "      <th>households</th>\n",
       "      <th>median_income</th>\n",
       "      <th>median_house_value</th>\n",
       "      <th>ocean_proximity</th>\n",
       "    </tr>\n",
       "  </thead>\n",
       "  <tbody>\n",
       "    <tr>\n",
       "      <th>0</th>\n",
       "      <td>-122.23</td>\n",
       "      <td>37.88</td>\n",
       "      <td>41.0</td>\n",
       "      <td>880.0</td>\n",
       "      <td>129.0</td>\n",
       "      <td>322.0</td>\n",
       "      <td>126.0</td>\n",
       "      <td>8.3252</td>\n",
       "      <td>452600.0</td>\n",
       "      <td>NEAR BAY</td>\n",
       "    </tr>\n",
       "    <tr>\n",
       "      <th>1</th>\n",
       "      <td>-122.22</td>\n",
       "      <td>37.86</td>\n",
       "      <td>21.0</td>\n",
       "      <td>7099.0</td>\n",
       "      <td>1106.0</td>\n",
       "      <td>2401.0</td>\n",
       "      <td>1138.0</td>\n",
       "      <td>8.3014</td>\n",
       "      <td>358500.0</td>\n",
       "      <td>NEAR BAY</td>\n",
       "    </tr>\n",
       "    <tr>\n",
       "      <th>2</th>\n",
       "      <td>-122.24</td>\n",
       "      <td>37.85</td>\n",
       "      <td>52.0</td>\n",
       "      <td>1467.0</td>\n",
       "      <td>190.0</td>\n",
       "      <td>496.0</td>\n",
       "      <td>177.0</td>\n",
       "      <td>7.2574</td>\n",
       "      <td>352100.0</td>\n",
       "      <td>NEAR BAY</td>\n",
       "    </tr>\n",
       "    <tr>\n",
       "      <th>3</th>\n",
       "      <td>-122.25</td>\n",
       "      <td>37.85</td>\n",
       "      <td>52.0</td>\n",
       "      <td>1274.0</td>\n",
       "      <td>235.0</td>\n",
       "      <td>558.0</td>\n",
       "      <td>219.0</td>\n",
       "      <td>5.6431</td>\n",
       "      <td>341300.0</td>\n",
       "      <td>NEAR BAY</td>\n",
       "    </tr>\n",
       "    <tr>\n",
       "      <th>4</th>\n",
       "      <td>-122.25</td>\n",
       "      <td>37.85</td>\n",
       "      <td>52.0</td>\n",
       "      <td>1627.0</td>\n",
       "      <td>280.0</td>\n",
       "      <td>565.0</td>\n",
       "      <td>259.0</td>\n",
       "      <td>3.8462</td>\n",
       "      <td>342200.0</td>\n",
       "      <td>NEAR BAY</td>\n",
       "    </tr>\n",
       "  </tbody>\n",
       "</table>\n",
       "</div>"
      ],
      "text/plain": [
       "   longitude  latitude  housing_median_age  total_rooms  total_bedrooms  \\\n",
       "0    -122.23     37.88                41.0        880.0           129.0   \n",
       "1    -122.22     37.86                21.0       7099.0          1106.0   \n",
       "2    -122.24     37.85                52.0       1467.0           190.0   \n",
       "3    -122.25     37.85                52.0       1274.0           235.0   \n",
       "4    -122.25     37.85                52.0       1627.0           280.0   \n",
       "\n",
       "   population  households  median_income  median_house_value ocean_proximity  \n",
       "0       322.0       126.0         8.3252            452600.0        NEAR BAY  \n",
       "1      2401.0      1138.0         8.3014            358500.0        NEAR BAY  \n",
       "2       496.0       177.0         7.2574            352100.0        NEAR BAY  \n",
       "3       558.0       219.0         5.6431            341300.0        NEAR BAY  \n",
       "4       565.0       259.0         3.8462            342200.0        NEAR BAY  "
      ]
     },
     "execution_count": 3,
     "metadata": {},
     "output_type": "execute_result"
    }
   ],
   "source": [
    "df.head()"
   ]
  },
  {
   "cell_type": "code",
   "execution_count": 8,
   "id": "dc66b70c",
   "metadata": {},
   "outputs": [],
   "source": [
    "df = df.drop(columns=['ocean_proximity'])"
   ]
  },
  {
   "cell_type": "code",
   "execution_count": 9,
   "id": "86b51b6d",
   "metadata": {},
   "outputs": [
    {
     "data": {
      "text/html": [
       "<div>\n",
       "<style scoped>\n",
       "    .dataframe tbody tr th:only-of-type {\n",
       "        vertical-align: middle;\n",
       "    }\n",
       "\n",
       "    .dataframe tbody tr th {\n",
       "        vertical-align: top;\n",
       "    }\n",
       "\n",
       "    .dataframe thead th {\n",
       "        text-align: right;\n",
       "    }\n",
       "</style>\n",
       "<table border=\"1\" class=\"dataframe\">\n",
       "  <thead>\n",
       "    <tr style=\"text-align: right;\">\n",
       "      <th></th>\n",
       "      <th>longitude</th>\n",
       "      <th>latitude</th>\n",
       "      <th>housing_median_age</th>\n",
       "      <th>total_rooms</th>\n",
       "      <th>total_bedrooms</th>\n",
       "      <th>population</th>\n",
       "      <th>households</th>\n",
       "      <th>median_income</th>\n",
       "      <th>median_house_value</th>\n",
       "    </tr>\n",
       "  </thead>\n",
       "  <tbody>\n",
       "    <tr>\n",
       "      <th>0</th>\n",
       "      <td>-122.23</td>\n",
       "      <td>37.88</td>\n",
       "      <td>41.0</td>\n",
       "      <td>880.0</td>\n",
       "      <td>129.0</td>\n",
       "      <td>322.0</td>\n",
       "      <td>126.0</td>\n",
       "      <td>8.3252</td>\n",
       "      <td>452600.0</td>\n",
       "    </tr>\n",
       "    <tr>\n",
       "      <th>1</th>\n",
       "      <td>-122.22</td>\n",
       "      <td>37.86</td>\n",
       "      <td>21.0</td>\n",
       "      <td>7099.0</td>\n",
       "      <td>1106.0</td>\n",
       "      <td>2401.0</td>\n",
       "      <td>1138.0</td>\n",
       "      <td>8.3014</td>\n",
       "      <td>358500.0</td>\n",
       "    </tr>\n",
       "    <tr>\n",
       "      <th>2</th>\n",
       "      <td>-122.24</td>\n",
       "      <td>37.85</td>\n",
       "      <td>52.0</td>\n",
       "      <td>1467.0</td>\n",
       "      <td>190.0</td>\n",
       "      <td>496.0</td>\n",
       "      <td>177.0</td>\n",
       "      <td>7.2574</td>\n",
       "      <td>352100.0</td>\n",
       "    </tr>\n",
       "    <tr>\n",
       "      <th>3</th>\n",
       "      <td>-122.25</td>\n",
       "      <td>37.85</td>\n",
       "      <td>52.0</td>\n",
       "      <td>1274.0</td>\n",
       "      <td>235.0</td>\n",
       "      <td>558.0</td>\n",
       "      <td>219.0</td>\n",
       "      <td>5.6431</td>\n",
       "      <td>341300.0</td>\n",
       "    </tr>\n",
       "    <tr>\n",
       "      <th>4</th>\n",
       "      <td>-122.25</td>\n",
       "      <td>37.85</td>\n",
       "      <td>52.0</td>\n",
       "      <td>1627.0</td>\n",
       "      <td>280.0</td>\n",
       "      <td>565.0</td>\n",
       "      <td>259.0</td>\n",
       "      <td>3.8462</td>\n",
       "      <td>342200.0</td>\n",
       "    </tr>\n",
       "  </tbody>\n",
       "</table>\n",
       "</div>"
      ],
      "text/plain": [
       "   longitude  latitude  housing_median_age  total_rooms  total_bedrooms  \\\n",
       "0    -122.23     37.88                41.0        880.0           129.0   \n",
       "1    -122.22     37.86                21.0       7099.0          1106.0   \n",
       "2    -122.24     37.85                52.0       1467.0           190.0   \n",
       "3    -122.25     37.85                52.0       1274.0           235.0   \n",
       "4    -122.25     37.85                52.0       1627.0           280.0   \n",
       "\n",
       "   population  households  median_income  median_house_value  \n",
       "0       322.0       126.0         8.3252            452600.0  \n",
       "1      2401.0      1138.0         8.3014            358500.0  \n",
       "2       496.0       177.0         7.2574            352100.0  \n",
       "3       558.0       219.0         5.6431            341300.0  \n",
       "4       565.0       259.0         3.8462            342200.0  "
      ]
     },
     "execution_count": 9,
     "metadata": {},
     "output_type": "execute_result"
    }
   ],
   "source": [
    "df.head()"
   ]
  },
  {
   "cell_type": "code",
   "execution_count": 10,
   "id": "d2140e14",
   "metadata": {},
   "outputs": [
    {
     "data": {
      "text/plain": [
       "longitude               0\n",
       "latitude                0\n",
       "housing_median_age      0\n",
       "total_rooms             0\n",
       "total_bedrooms        207\n",
       "population              0\n",
       "households              0\n",
       "median_income           0\n",
       "median_house_value      0\n",
       "dtype: int64"
      ]
     },
     "execution_count": 10,
     "metadata": {},
     "output_type": "execute_result"
    }
   ],
   "source": [
    "df.isnull().sum()"
   ]
  },
  {
   "cell_type": "code",
   "execution_count": 11,
   "id": "6cfe8400",
   "metadata": {},
   "outputs": [
    {
     "data": {
      "text/plain": [
       "1166.0"
      ]
     },
     "execution_count": 11,
     "metadata": {},
     "output_type": "execute_result"
    }
   ],
   "source": [
    "df['population'].median()"
   ]
  },
  {
   "cell_type": "code",
   "execution_count": 13,
   "id": "797ac3ad",
   "metadata": {
    "scrolled": true
   },
   "outputs": [
    {
     "data": {
      "text/plain": [
       "<AxesSubplot:xlabel='median_house_value', ylabel='Count'>"
      ]
     },
     "execution_count": 13,
     "metadata": {},
     "output_type": "execute_result"
    },
    {
     "data": {
      "image/png": "[encoded data removed]",
      "text/plain": [
       "<Figure size 432x288 with 1 Axes>"
      ]
     },
     "metadata": {
      "needs_background": "light"
     },
     "output_type": "display_data"
    }
   ],
   "source": [
    "sns.histplot(df.median_house_value)"
   ]
  },
  {
   "cell_type": "code",
   "execution_count": 29,
   "id": "10729e09",
   "metadata": {},
   "outputs": [],
   "source": [
    "n = len(df)"
   ]
  },
  {
   "cell_type": "code",
   "execution_count": 31,
   "id": "7e9b881b",
   "metadata": {},
   "outputs": [
    {
     "data": {
      "text/plain": [
       "array([    0,     1,     2, ..., 20637, 20638, 20639])"
      ]
     },
     "execution_count": 31,
     "metadata": {},
     "output_type": "execute_result"
    }
   ],
   "source": [
    "ind = np.arange(n)\n",
    "ind"
   ]
  },
  {
   "cell_type": "code",
   "execution_count": 36,
   "id": "1a7490a9",
   "metadata": {},
   "outputs": [],
   "source": [
    "np.random.seed(42)\n",
    "np.random.shuffle(ind)"
   ]
  },
  {
   "cell_type": "code",
   "execution_count": 37,
   "id": "be5f4f29",
   "metadata": {},
   "outputs": [
    {
     "data": {
      "text/plain": [
       "(12384, 4128, 4128)"
      ]
     },
     "execution_count": 37,
     "metadata": {},
     "output_type": "execute_result"
    }
   ],
   "source": [
    "val=int(len(df)*0.2)\n",
    "test=int(len(df)*0.2)\n",
    "train=len(df)-val-test\n",
    "train,val,test"
   ]
  },
  {
   "cell_type": "code",
   "execution_count": 38,
   "id": "01eea24b",
   "metadata": {},
   "outputs": [
    {
     "data": {
      "text/plain": [
       "(12384, 4128, 4128)"
      ]
     },
     "execution_count": 38,
     "metadata": {},
     "output_type": "execute_result"
    }
   ],
   "source": [
    "df_train = df.iloc[ind[:train]]\n",
    "df_val = df.iloc[ind[train:train+val]]\n",
    "df_test = df.iloc[ind[train+val:]]\n",
    "len(df_train),len(df_val),len(df_test)"
   ]
  },
  {
   "cell_type": "code",
   "execution_count": 66,
   "id": "97027ce9",
   "metadata": {},
   "outputs": [
    {
     "data": {
      "text/html": [
       "<div>\n",
       "<style scoped>\n",
       "    .dataframe tbody tr th:only-of-type {\n",
       "        vertical-align: middle;\n",
       "    }\n",
       "\n",
       "    .dataframe tbody tr th {\n",
       "        vertical-align: top;\n",
       "    }\n",
       "\n",
       "    .dataframe thead th {\n",
       "        text-align: right;\n",
       "    }\n",
       "</style>\n",
       "<table border=\"1\" class=\"dataframe\">\n",
       "  <thead>\n",
       "    <tr style=\"text-align: right;\">\n",
       "      <th></th>\n",
       "      <th>longitude</th>\n",
       "      <th>latitude</th>\n",
       "      <th>housing_median_age</th>\n",
       "      <th>total_rooms</th>\n",
       "      <th>total_bedrooms</th>\n",
       "      <th>population</th>\n",
       "      <th>households</th>\n",
       "      <th>median_income</th>\n",
       "    </tr>\n",
       "  </thead>\n",
       "  <tbody>\n",
       "    <tr>\n",
       "      <th>6339</th>\n",
       "      <td>-117.89</td>\n",
       "      <td>33.98</td>\n",
       "      <td>5.0</td>\n",
       "      <td>3088.0</td>\n",
       "      <td>711.0</td>\n",
       "      <td>1415.0</td>\n",
       "      <td>641.0</td>\n",
       "      <td>2.5125</td>\n",
       "    </tr>\n",
       "    <tr>\n",
       "      <th>4737</th>\n",
       "      <td>-118.38</td>\n",
       "      <td>34.05</td>\n",
       "      <td>52.0</td>\n",
       "      <td>1241.0</td>\n",
       "      <td>210.0</td>\n",
       "      <td>526.0</td>\n",
       "      <td>214.0</td>\n",
       "      <td>4.4191</td>\n",
       "    </tr>\n",
       "    <tr>\n",
       "      <th>17654</th>\n",
       "      <td>-121.89</td>\n",
       "      <td>37.25</td>\n",
       "      <td>21.0</td>\n",
       "      <td>2080.0</td>\n",
       "      <td>352.0</td>\n",
       "      <td>1040.0</td>\n",
       "      <td>325.0</td>\n",
       "      <td>5.2887</td>\n",
       "    </tr>\n",
       "    <tr>\n",
       "      <th>388</th>\n",
       "      <td>-122.30</td>\n",
       "      <td>37.90</td>\n",
       "      <td>38.0</td>\n",
       "      <td>2263.0</td>\n",
       "      <td>522.0</td>\n",
       "      <td>1027.0</td>\n",
       "      <td>509.0</td>\n",
       "      <td>3.5125</td>\n",
       "    </tr>\n",
       "    <tr>\n",
       "      <th>2589</th>\n",
       "      <td>-124.10</td>\n",
       "      <td>40.88</td>\n",
       "      <td>35.0</td>\n",
       "      <td>2987.0</td>\n",
       "      <td>578.0</td>\n",
       "      <td>1581.0</td>\n",
       "      <td>585.0</td>\n",
       "      <td>2.0657</td>\n",
       "    </tr>\n",
       "  </tbody>\n",
       "</table>\n",
       "</div>"
      ],
      "text/plain": [
       "       longitude  latitude  housing_median_age  total_rooms  total_bedrooms  \\\n",
       "6339     -117.89     33.98                 5.0       3088.0           711.0   \n",
       "4737     -118.38     34.05                52.0       1241.0           210.0   \n",
       "17654    -121.89     37.25                21.0       2080.0           352.0   \n",
       "388      -122.30     37.90                38.0       2263.0           522.0   \n",
       "2589     -124.10     40.88                35.0       2987.0           578.0   \n",
       "\n",
       "       population  households  median_income  \n",
       "6339       1415.0       641.0         2.5125  \n",
       "4737        526.0       214.0         4.4191  \n",
       "17654      1040.0       325.0         5.2887  \n",
       "388        1027.0       509.0         3.5125  \n",
       "2589       1581.0       585.0         2.0657  "
      ]
     },
     "execution_count": 66,
     "metadata": {},
     "output_type": "execute_result"
    }
   ],
   "source": [
    "df_train.head()"
   ]
  },
  {
   "cell_type": "code",
   "execution_count": 42,
   "id": "5946ee8b",
   "metadata": {},
   "outputs": [],
   "source": [
    "y_train = np.log1p(df_train.median_house_value.values)\n",
    "y_val = np.log1p(df_val.median_house_value.values)\n",
    "y_test = np.log1p(df_test.median_house_value.values)"
   ]
  },
  {
   "cell_type": "code",
   "execution_count": 45,
   "id": "8c2006e3",
   "metadata": {},
   "outputs": [
    {
     "data": {
      "text/plain": [
       "(array([12.09066741, 11.96718709, 12.26670197, ..., 12.14047223,\n",
       "        12.50692141, 12.49650468]),\n",
       " array([12.39172615, 11.45318608, 11.4700284 , ..., 12.58485491,\n",
       "        12.00089793, 10.92235292]))"
      ]
     },
     "execution_count": 45,
     "metadata": {},
     "output_type": "execute_result"
    }
   ],
   "source": [
    "y_val,y_test"
   ]
  },
  {
   "cell_type": "code",
   "execution_count": 46,
   "id": "cf8c4c0f",
   "metadata": {},
   "outputs": [],
   "source": [
    "del df_train['median_house_value']\n",
    "del df_val['median_house_value']\n",
    "del df_test['median_house_value']"
   ]
  },
  {
   "cell_type": "code",
   "execution_count": 47,
   "id": "50add082",
   "metadata": {},
   "outputs": [
    {
     "data": {
      "text/html": [
       "<div>\n",
       "<style scoped>\n",
       "    .dataframe tbody tr th:only-of-type {\n",
       "        vertical-align: middle;\n",
       "    }\n",
       "\n",
       "    .dataframe tbody tr th {\n",
       "        vertical-align: top;\n",
       "    }\n",
       "\n",
       "    .dataframe thead th {\n",
       "        text-align: right;\n",
       "    }\n",
       "</style>\n",
       "<table border=\"1\" class=\"dataframe\">\n",
       "  <thead>\n",
       "    <tr style=\"text-align: right;\">\n",
       "      <th></th>\n",
       "      <th>longitude</th>\n",
       "      <th>latitude</th>\n",
       "      <th>housing_median_age</th>\n",
       "      <th>total_rooms</th>\n",
       "      <th>total_bedrooms</th>\n",
       "      <th>population</th>\n",
       "      <th>households</th>\n",
       "      <th>median_income</th>\n",
       "    </tr>\n",
       "  </thead>\n",
       "  <tbody>\n",
       "    <tr>\n",
       "      <th>3640</th>\n",
       "      <td>-118.44</td>\n",
       "      <td>34.22</td>\n",
       "      <td>39.0</td>\n",
       "      <td>1529.0</td>\n",
       "      <td>344.0</td>\n",
       "      <td>913.0</td>\n",
       "      <td>314.0</td>\n",
       "      <td>3.3250</td>\n",
       "    </tr>\n",
       "    <tr>\n",
       "      <th>19634</th>\n",
       "      <td>-120.89</td>\n",
       "      <td>37.52</td>\n",
       "      <td>42.0</td>\n",
       "      <td>1200.0</td>\n",
       "      <td>221.0</td>\n",
       "      <td>647.0</td>\n",
       "      <td>192.0</td>\n",
       "      <td>2.5402</td>\n",
       "    </tr>\n",
       "    <tr>\n",
       "      <th>11201</th>\n",
       "      <td>-117.92</td>\n",
       "      <td>33.83</td>\n",
       "      <td>17.0</td>\n",
       "      <td>382.0</td>\n",
       "      <td>86.0</td>\n",
       "      <td>272.0</td>\n",
       "      <td>81.0</td>\n",
       "      <td>1.4250</td>\n",
       "    </tr>\n",
       "    <tr>\n",
       "      <th>10822</th>\n",
       "      <td>-117.91</td>\n",
       "      <td>33.65</td>\n",
       "      <td>24.0</td>\n",
       "      <td>1494.0</td>\n",
       "      <td>494.0</td>\n",
       "      <td>814.0</td>\n",
       "      <td>459.0</td>\n",
       "      <td>2.1074</td>\n",
       "    </tr>\n",
       "    <tr>\n",
       "      <th>12088</th>\n",
       "      <td>-117.26</td>\n",
       "      <td>33.86</td>\n",
       "      <td>16.0</td>\n",
       "      <td>1171.0</td>\n",
       "      <td>235.0</td>\n",
       "      <td>659.0</td>\n",
       "      <td>216.0</td>\n",
       "      <td>3.1103</td>\n",
       "    </tr>\n",
       "  </tbody>\n",
       "</table>\n",
       "</div>"
      ],
      "text/plain": [
       "       longitude  latitude  housing_median_age  total_rooms  total_bedrooms  \\\n",
       "3640     -118.44     34.22                39.0       1529.0           344.0   \n",
       "19634    -120.89     37.52                42.0       1200.0           221.0   \n",
       "11201    -117.92     33.83                17.0        382.0            86.0   \n",
       "10822    -117.91     33.65                24.0       1494.0           494.0   \n",
       "12088    -117.26     33.86                16.0       1171.0           235.0   \n",
       "\n",
       "       population  households  median_income  \n",
       "3640        913.0       314.0         3.3250  \n",
       "19634       647.0       192.0         2.5402  \n",
       "11201       272.0        81.0         1.4250  \n",
       "10822       814.0       459.0         2.1074  \n",
       "12088       659.0       216.0         3.1103  "
      ]
     },
     "execution_count": 47,
     "metadata": {},
     "output_type": "execute_result"
    }
   ],
   "source": [
    "df_val.head()"
   ]
  },
  {
   "cell_type": "code",
   "execution_count": 78,
   "id": "de221c34",
   "metadata": {},
   "outputs": [
    {
     "data": {
      "text/plain": [
       "538.6335373317013"
      ]
     },
     "execution_count": 78,
     "metadata": {},
     "output_type": "execute_result"
    }
   ],
   "source": [
    "m = df_train['total_bedrooms'].mean()\n",
    "m"
   ]
  },
  {
   "cell_type": "code",
   "execution_count": 64,
   "id": "1a5ff509",
   "metadata": {},
   "outputs": [],
   "source": [
    "def train_lin_reg(X, y):\n",
    "    ones = np.ones(X.shape[0])\n",
    "    X = np.column_stack([ones, X])\n",
    "\n",
    "    XTX = X.T.dot(X)\n",
    "    XTX_inv = np.linalg.inv(XTX)\n",
    "    w_full = XTX_inv.dot(X.T).dot(y)\n",
    "    \n",
    "    return w_full[0], w_full[1:]"
   ]
  },
  {
   "cell_type": "code",
   "execution_count": 65,
   "id": "3bbeb70c",
   "metadata": {},
   "outputs": [],
   "source": [
    "def rmse(y, y_pred):\n",
    "    se = (y - y_pred) ** 2\n",
    "    mse = se.mean()\n",
    "    return np.sqrt(mse)"
   ]
  },
  {
   "cell_type": "code",
   "execution_count": 67,
   "id": "8e6d9be2",
   "metadata": {},
   "outputs": [],
   "source": [
    "df_train1 = df_train.copy()\n",
    "df_train2 = df_train.copy()"
   ]
  },
  {
   "cell_type": "code",
   "execution_count": 68,
   "id": "5c57baa7",
   "metadata": {},
   "outputs": [],
   "source": [
    "# with 0\n",
    "\n",
    "X_train1 = df_train1.fillna(0).values\n",
    "w0, w = train_lin_reg(X_train1, y_train)\n",
    "y_pred = w0 + X_train1.dot(w)"
   ]
  },
  {
   "cell_type": "code",
   "execution_count": 69,
   "id": "edd6f7f4",
   "metadata": {},
   "outputs": [
    {
     "data": {
      "text/plain": [
       "(-11.75456798777099,\n",
       " array([11.88367417, 12.35478533, 12.44848889, ..., 12.21605365,\n",
       "        12.14672363, 12.39168824]))"
      ]
     },
     "execution_count": 69,
     "metadata": {},
     "output_type": "execute_result"
    }
   ],
   "source": [
    "w0, y_pred"
   ]
  },
  {
   "cell_type": "code",
   "execution_count": 71,
   "id": "a06c0bb3",
   "metadata": {},
   "outputs": [
    {
     "data": {
      "text/plain": [
       "<AxesSubplot:ylabel='Count'>"
      ]
     },
     "execution_count": 71,
     "metadata": {},
     "output_type": "execute_result"
    },
    {
     "data": {
      "image/png": "[encoded data removed]",
      "text/plain": [
       "<Figure size 432x288 with 1 Axes>"
      ]
     },
     "metadata": {
      "needs_background": "light"
     },
     "output_type": "display_data"
    }
   ],
   "source": [
    "sns.histplot(y_pred, color='violet', alpha=0.5, bins=30)\n",
    "sns.histplot(y_train, color='green', alpha=0.5, bins=30)"
   ]
  },
  {
   "cell_type": "code",
   "execution_count": 73,
   "id": "542e21d1",
   "metadata": {},
   "outputs": [
    {
     "data": {
      "text/plain": [
       "0.34"
      ]
     },
     "execution_count": 73,
     "metadata": {},
     "output_type": "execute_result"
    }
   ],
   "source": [
    "round(rmse(y_train, y_pred),2)"
   ]
  },
  {
   "cell_type": "code",
   "execution_count": 77,
   "id": "73bae2b6",
   "metadata": {},
   "outputs": [
    {
     "data": {
      "text/plain": [
       "0.34"
      ]
     },
     "execution_count": 77,
     "metadata": {},
     "output_type": "execute_result"
    }
   ],
   "source": [
    "y_pred = w0 + df_val.dot(w)\n",
    "round(rmse(y_val, y_pred),2)"
   ]
  },
  {
   "cell_type": "code",
   "execution_count": 79,
   "id": "19878cac",
   "metadata": {},
   "outputs": [],
   "source": [
    "# with mean\n",
    "\n",
    "X_train2 = df_train1.fillna(m).values\n",
    "w0, w = train_lin_reg(X_train2, y_train)\n",
    "y_pred = w0 + X_train2.dot(w)"
   ]
  },
  {
   "cell_type": "code",
   "execution_count": 80,
   "id": "51fc6b02",
   "metadata": {},
   "outputs": [
    {
     "data": {
      "text/plain": [
       "(-11.843075892011486,\n",
       " array([11.88106457, 12.35088277, 12.44887682, ..., 12.21423582,\n",
       "        12.14167521, 12.38815699]))"
      ]
     },
     "execution_count": 80,
     "metadata": {},
     "output_type": "execute_result"
    }
   ],
   "source": [
    "w0, y_pred"
   ]
  },
  {
   "cell_type": "code",
   "execution_count": 82,
   "id": "d7cf78f5",
   "metadata": {},
   "outputs": [
    {
     "data": {
      "text/plain": [
       "0.34"
      ]
     },
     "execution_count": 82,
     "metadata": {},
     "output_type": "execute_result"
    }
   ],
   "source": [
    "round(rmse(y_train, y_pred),2)"
   ]
  },
  {
   "cell_type": "code",
   "execution_count": 83,
   "id": "a7fe2e6b",
   "metadata": {},
   "outputs": [
    {
     "data": {
      "text/plain": [
       "0.34"
      ]
     },
     "execution_count": 83,
     "metadata": {},
     "output_type": "execute_result"
    }
   ],
   "source": [
    "y_pred = w0 + df_val.dot(w)\n",
    "round(rmse(y_val, y_pred),2)"
   ]
  },
  {
   "cell_type": "code",
   "execution_count": 84,
   "id": "0f267791",
   "metadata": {},
   "outputs": [],
   "source": [
    "df_train3 = df_train.copy()"
   ]
  },
  {
   "cell_type": "code",
   "execution_count": 86,
   "id": "ce24dd98",
   "metadata": {},
   "outputs": [],
   "source": [
    "X_train3 = df_train3.fillna(0).values"
   ]
  },
  {
   "cell_type": "code",
   "execution_count": 85,
   "id": "8cd5f73c",
   "metadata": {},
   "outputs": [],
   "source": [
    "# Regularization\n",
    "\n",
    "def train_lin_reg_R(X, y, r=0.001):\n",
    "    ones = np.ones(X.shape[0])\n",
    "    X = np.column_stack([ones, X])\n",
    "\n",
    "    XTX = X.T.dot(X)\n",
    "    XTX = XTX + r * np.eye(XTX.shape[0])\n",
    "\n",
    "    XTX_inv = np.linalg.inv(XTX)\n",
    "    w_full = XTX_inv.dot(X.T).dot(y)\n",
    "    \n",
    "    return w_full[0], w_full[1:]"
   ]
  },
  {
   "cell_type": "code",
   "execution_count": 88,
   "id": "b7647c57",
   "metadata": {},
   "outputs": [
    {
     "name": "stdout",
     "output_type": "stream",
     "text": [
      "0 -11.75456798777099 0.3382745717854273\n",
      "1e-06 -11.754551899190785 0.3382745703371478\n",
      "0.01 -11.595855599916032 0.33826258887483207\n",
      "0.1 -10.33937484015322 0.33832987722875635\n"
     ]
    }
   ],
   "source": [
    "for r in [0, 0.000001, 0.01, 0.1]:\n",
    "    w0_3, w_3 = train_lin_reg_R(X_train3, y_train, r=r)\n",
    "\n",
    "    X_val_3 =df_val.fillna(0).values\n",
    "    y_pred_3 = w0_3 + X_val_3.dot(w_3)\n",
    "    score = rmse(y_val, y_pred_3)\n",
    "    \n",
    "    print(r, w0_3, score)"
   ]
  },
  {
   "cell_type": "code",
   "execution_count": 94,
   "id": "5c299748",
   "metadata": {},
   "outputs": [],
   "source": [
    "rmse_scores =[]"
   ]
  },
  {
   "cell_type": "code",
   "execution_count": 98,
   "id": "a59c0e44",
   "metadata": {},
   "outputs": [],
   "source": [
    "for s in [0, 1, 2, 3, 4, 5, 6, 7, 8, 9]:\n",
    "    \n",
    "    np.random.seed(s)\n",
    "    np.random.shuffle(ind)\n",
    "    df_train = df.iloc[ind[:train]]\n",
    "    df_val = df.iloc[ind[train:train+val]]\n",
    "    df_test = df.iloc[ind[train+val:]]\n",
    "    \n",
    "    df_train = df_train.reset_index(drop=True)\n",
    "    df_val = df_val.reset_index(drop=True)\n",
    "    df_test = df_test.reset_index(drop=True)\n",
    "\n",
    "    y_train = np.log1p(df_train.median_house_value.values)\n",
    "    y_val = np.log1p(df_val.median_house_value.values)\n",
    "    y_test = np.log1p(df_test.median_house_value.values)\n",
    "    \n",
    "    df_train = df_train.fillna(0).values\n",
    "    df_val = df_val.fillna(0).values\n",
    "    \n",
    "    w0, w = train_lin_reg(df_train, y_train)\n",
    "    \n",
    "    y_pred = w0 + df_val.dot(w)\n",
    "    \n",
    "    score = round(np.sqrt(mean_squared_error(y_val, y_pred)),2)\n",
    "    rmse_scores.append(score)"
   ]
  },
  {
   "cell_type": "code",
   "execution_count": 100,
   "id": "136dc462",
   "metadata": {},
   "outputs": [],
   "source": [
    "std = round(np.std(rmse_scores),3)"
   ]
  },
  {
   "cell_type": "code",
   "execution_count": 101,
   "id": "ed64328d",
   "metadata": {},
   "outputs": [
    {
     "data": {
      "text/plain": [
       "0.005"
      ]
     },
     "execution_count": 101,
     "metadata": {},
     "output_type": "execute_result"
    }
   ],
   "source": [
    "std"
   ]
  },
  {
   "cell_type": "code",
   "execution_count": 124,
   "id": "56a8fcec",
   "metadata": {},
   "outputs": [],
   "source": [
    "np.random.seed(9)\n",
    "np.random.shuffle(ind)\n",
    "df_train = df.iloc[ind[:train]]\n",
    "df_val = df.iloc[ind[train:train+val]]\n",
    "df_test = df.iloc[ind[train+val:]]\n",
    "    \n",
    "y_train = np.log1p(df_train.median_house_value.values)\n",
    "y_val = np.log1p(df_val.median_house_value.values)\n",
    "y_test = np.log1p(df_test.median_house_value.values)"
   ]
  },
  {
   "cell_type": "code",
   "execution_count": 125,
   "id": "efd5d770",
   "metadata": {},
   "outputs": [
    {
     "data": {
      "text/plain": [
       "12384"
      ]
     },
     "execution_count": 125,
     "metadata": {},
     "output_type": "execute_result"
    }
   ],
   "source": [
    "len(df_train)"
   ]
  },
  {
   "cell_type": "code",
   "execution_count": 126,
   "id": "6a2a734f",
   "metadata": {},
   "outputs": [],
   "source": [
    "df_full_train = pd.concat([df_train, df_val])"
   ]
  },
  {
   "cell_type": "code",
   "execution_count": 127,
   "id": "caaa50ff",
   "metadata": {},
   "outputs": [],
   "source": [
    "df_full_train = df_full_train.fillna(0).values"
   ]
  },
  {
   "cell_type": "code",
   "execution_count": 128,
   "id": "77de420f",
   "metadata": {},
   "outputs": [],
   "source": [
    "y_full_train = np.concatenate([y_train, y_val])"
   ]
  },
  {
   "cell_type": "code",
   "execution_count": 117,
   "id": "bffd0e9b",
   "metadata": {},
   "outputs": [
    {
     "data": {
      "text/plain": [
       "array([12.30546992, 12.65076167, 11.90564975, ..., 11.89478753,\n",
       "       12.37624149, 12.62872585])"
      ]
     },
     "execution_count": 117,
     "metadata": {},
     "output_type": "execute_result"
    }
   ],
   "source": []
  },
  {
   "cell_type": "code",
   "execution_count": 129,
   "id": "6c96ded5",
   "metadata": {},
   "outputs": [],
   "source": [
    "w0, w = train_lin_reg_R(df_full_train, y_full_train, r=0.001)"
   ]
  },
  {
   "cell_type": "code",
   "execution_count": 130,
   "id": "730d072d",
   "metadata": {},
   "outputs": [
    {
     "data": {
      "text/plain": [
       "0.16"
      ]
     },
     "execution_count": 130,
     "metadata": {},
     "output_type": "execute_result"
    }
   ],
   "source": [
    "y_pred = w0 + df_test.dot(w)\n",
    "result = rmse(y_test, y_pred)\n",
    "round(result,2)"
   ]
  },
  {
   "cell_type": "code",
   "execution_count": null,
   "id": "c28331fc",
   "metadata": {},
   "outputs": [],
   "source": []
  }
 ],
 "metadata": {
  "kernelspec": {
   "display_name": "Python 3 (ipykernel)",
   "language": "python",
   "name": "python3"
  },
  "language_info": {
   "codemirror_mode": {
    "name": "ipython",
    "version": 3
   },
   "file_extension": ".py",
   "mimetype": "text/x-python",
   "name": "python",
   "nbconvert_exporter": "python",
   "pygments_lexer": "ipython3",
   "version": "3.9.7"
  }
 },
 "nbformat": 4,
 "nbformat_minor": 5
}
